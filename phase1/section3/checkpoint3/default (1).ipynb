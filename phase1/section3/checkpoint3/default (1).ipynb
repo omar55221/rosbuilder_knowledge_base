{
 "cells": [
  {
   "cell_type": "markdown",
   "metadata": {},
   "source": [
    "<div class=\"jumbotron m-0\">\n",
    "    <hr />\n",
    "    <h1 class=\"text-center\">\n",
    "        <span class=\"text-primary\">CheckPoint 3: ROS2 Basics C++ </span>\n",
    "    </h1>\n",
    "    <hr />\n",
    "</div>"
   ]
  },
  {
   "cell_type": "markdown",
   "metadata": {},
   "source": [
    "<div class=\"bg-primary text-center\">\n",
    "    - Summary -\n",
    "</div>"
   ]
  },
  {
   "cell_type": "markdown",
   "metadata": {},
   "source": [
    "**In this rosject, you will have to apply all that you have learned throughout the ROS2 Basics course to a real robot.**\n",
    "\n",
    "- You will practice with a simulation and a real robot Turtlebot3\n",
    "- You will launch the robot simulation here\n",
    "- The real robot is running in Barcelona, Spain. You will connect remotely to it from this rosject"
   ]
  },
  {
   "cell_type": "markdown",
   "metadata": {},
   "source": [
    "![sim_and_real](images/sim_and_real_lab.png)"
   ]
  },
  {
   "cell_type": "markdown",
   "metadata": {},
   "source": [
    "<div class=\"bg-primary text-center\">\n",
    "    - End of Summary -\n",
    "</div>"
   ]
  },
  {
   "cell_type": "markdown",
   "metadata": {},
   "source": [
    "<div>\n",
    "    <h1 class=\"text-center\">\n",
    "        <span class=\"text-primary\">Section 0</span>\n",
    "        &nbsp;\n",
    "        <span class=\"\">Launch the simulation</span>\n",
    "    </h1>\n",
    "</div>"
   ]
  },
  {
   "cell_type": "markdown",
   "metadata": {},
   "source": [
    "Before working on your code, you need a simulation (or an actual robot) to be running. During the **ROS2 Basics** course, you saw the simulation running in the top right corner. The simulation was automatically launched.\n",
    "\n",
    "In real development environments, you decide when to launch the simulation in order to start working. \n",
    "\n",
    "Now, let's launch the simulation we will need for this project:"
   ]
  },
  {
   "cell_type": "markdown",
   "metadata": {},
   "source": [
    "1. Open a terminal by pressing on the *terminal icon* at the bottom left croner of your screen.\n",
    "\n",
    "2. On the opened terminal, type the following ROS command that launches the simulation"
   ]
  },
  {
   "cell_type": "markdown",
   "metadata": {},
   "source": [
    "<span class=\"badge badge-pill badge-primary\">\n",
    "    <i class=\"fa fa-play\"></i>\n",
    "    &nbsp;\n",
    "    Execute in a Terminal\n",
    "</span>"
   ]
  },
  {
   "cell_type": "code",
   "execution_count": null,
   "metadata": {},
   "outputs": [],
   "source": [
    "source /opt/ros/noetic/setup.bash\n",
    "source ~/simulation_ws/devel/setup.bash\n",
    "roslaunch realrobotlab main.launch"
   ]
  },
  {
   "cell_type": "markdown",
   "metadata": {},
   "source": [
    "**Wait approximately 30 seconds** for the simulation to start. The simulation should automatically appear in a Gazebo window.\n",
    "\n",
    "If it doesn't automatically appear, open yourself the Gazebo window, using the Gazebo icon:"
   ]
  },
  {
   "cell_type": "markdown",
   "metadata": {},
   "source": [
    "<img src=\"gazebo_superapp.png\" align=\"left\" width=\"50\"/>"
   ]
  },
  {
   "cell_type": "markdown",
   "metadata": {},
   "source": [
    "<img src=\"new_sim.png\"/>"
   ]
  },
  {
   "cell_type": "markdown",
   "metadata": {},
   "source": [
    "**IMPORTANT:** the terminal that has the simulation running is occupied by it, so you cannot use it unless you kill the simulation. So you will need to open other terminals for other purposes while keeping the simulation running"
   ]
  },
  {
   "cell_type": "markdown",
   "metadata": {},
   "source": [
    "<div>\n",
    "    <h1 class=\"text-center\">\n",
    "        <span class=\"text-primary\">0.1</span>\n",
    "        &nbsp;\n",
    "        <span class=\"\">Launch the ros1_bridge</span>\n",
    "    </h1>\n",
    "</div>"
   ]
  },
  {
   "cell_type": "markdown",
   "metadata": {},
   "source": [
    "The simulation of Turtlebot3 runs on ROS1, but your programs will run on ROS2. Hence, you will need to launch also the `ros1_bridge` program to allow communication between ROS1 and ROS2.\n",
    "\n",
    "For the project we will use the `parameter_bridge` instead of the `dynamic_bridge` because the former allows to select only the topics we want to bridge. This allows important topics like `scan` to go through the bridge at a higher frequency."
   ]
  },
  {
   "cell_type": "markdown",
   "metadata": {},
   "source": [
    "<div class=\"bg-info text-center\">\n",
    "    - Notes -\n",
    "</div>\n",
    "\n",
    "If you want to learn more about the ROS1 Bridge, you can have a look at the following notebook:\n",
    "\n",
    "[ROS1 Bridge Notebook](./extra_files/ros1bridge.ipynb)\n",
    "\n",
    "<br>\n",
    "<div class=\"bg-info text-center\">\n",
    "    - End of Notes -\n",
    "</div>"
   ]
  },
  {
   "cell_type": "markdown",
   "metadata": {},
   "source": [
    "### ros1_bridge launch"
   ]
  },
  {
   "cell_type": "markdown",
   "metadata": {},
   "source": [
    "1. Open another terminal by clicking the *terminal icon* at the bottom left of your screen and the PLUS icon\n",
    "\n",
    "<img src=\"open_terminal_superapp.png\"/>\n",
    "\n",
    "2. Then on that terminal, type the following commands to launch the bridge:"
   ]
  },
  {
   "cell_type": "markdown",
   "metadata": {},
   "source": [
    "<span class=\"badge badge-pill badge-primary\">\n",
    "    <i class=\"fa fa-play\"></i>\n",
    "    &nbsp;\n",
    "    Execute in a Shell\n",
    "</span>"
   ]
  },
  {
   "cell_type": "code",
   "execution_count": null,
   "metadata": {},
   "outputs": [],
   "source": [
    "source ~/catkin_ws/devel/setup.bash\n",
    "roslaunch load_params load_params.launch\n",
    "source /opt/ros/foxy/setup.bash\n",
    "ros2 run ros1_bridge parameter_bridge"
   ]
  },
  {
   "cell_type": "markdown",
   "metadata": {},
   "source": [
    "You'll see the topic connections being established. From that moment, you can communicate with the topics offered by the simulation from ROS2."
   ]
  },
  {
   "cell_type": "markdown",
   "metadata": {},
   "source": [
    "<div>\n",
    "    <h1 class=\"text-center\">\n",
    "        <span class=\"text-primary\">0.2</span>\n",
    "        &nbsp;\n",
    "        <span class=\"\">Set the git environment</span>\n",
    "    </h1>\n",
    "</div>"
   ]
  },
  {
   "cell_type": "markdown",
   "metadata": {},
   "source": [
    "You need to set first a git environment to have all your code.\n",
    "\n",
    "1. Create a new git repo in your preferred online git environment (github, gitlab, Atlassian, ...). Call it `citylab_project`. \n",
    "\n",
    "2. Clone this repo in the `~/ros2_ws/src` directory of this rosject.\n",
    "\n",
    "3. Add all the packages of this project there.\n",
    "\n",
    "**Using Git is mandatory for this project.** If you do not use Git, your assignment will not be reviewed, and you will need to redo the project using Git. Make a habit of committing your work daily or at least each time you complete one specific task. Also exercise writing clean meaningful commit messages that briefly describe the changes made in the commit. If you do not follow these instructions, it won't be possible for the team to correct some of the tasks."
   ]
  },
  {
   "cell_type": "markdown",
   "metadata": {},
   "source": [
    "<div>\n",
    "    <h1 class=\"text-center\">\n",
    "        <span class=\"text-primary\">Task 1</span>\n",
    "        &nbsp;\n",
    "        <span class=\"\">Topics</span>\n",
    "    </h1>\n",
    "</div>"
   ]
  },
  {
   "cell_type": "markdown",
   "metadata": {},
   "source": [
    "In this part of the project, you will practice using topics to control a robot. Your goal is to create a ROS program that makes the robot have a patrolling behavior."
   ]
  },
  {
   "cell_type": "markdown",
   "metadata": {},
   "source": [
    "<h1 align=\"center\";> </h1>\n",
    "<div>\n",
    "    <h1 class=\"text-center\">\n",
    "        <span class=\"text-primary\">1.1</span>\n",
    "        &nbsp;\n",
    "        <span class=\"\">Patrol Behavior</span>\n",
    "    </h1>\n",
    "</div>"
   ]
  },
  {
   "cell_type": "markdown",
   "metadata": {},
   "source": [
    "**Remember that you can check the ROS2 Basics course clicking on the notebooks icon in the bottom menu bar.**"
   ]
  },
  {
   "cell_type": "markdown",
   "metadata": {},
   "source": [
    "The patrol behavior is a behavior that makes the robot **move around a specific area indefinitely while avoiding the obstacles in it**. This means that the robot must be moving, while making sure it doesn't get stuck or it hits any obstacle, the entire time.\n",
    "\n",
    "To achieve this behavior in the robot, you need to do the following steps:\n",
    "\n",
    "1. **Create a ROS2 package named `robot_patrol`**\n",
    "\n",
    "    * This package is the one that will contain the full project\n",
    "    * Inside the package include a ROS C++ file named `patrol.cpp`\n",
    "    \n",
    "    \n",
    "2. **Create a C++ class**\n",
    "\n",
    "    * Inside the `patrol.cpp` file, create a clase named **`Patrol`** that will contain the code of your node.\n",
    "\n",
    "\n",
    "3. **Get the laser data**\n",
    "\n",
    "    * Inside the `patrol.cpp` file, you need to subscribe to the laser topic and capture the rays\n",
    "    \n",
    "\n",
    "4. **Find the safest direction to move next**\n",
    "\n",
    "    * For the sake of simplicity, you can use only the laser rays in the 180 degrees of the front (see image below)."
   ]
  },
  {
   "cell_type": "markdown",
   "metadata": {},
   "source": [
    "<img src=\"images/laser_scope.png\" width=\"500\" />"
   ]
  },
  {
   "cell_type": "markdown",
   "metadata": {},
   "source": [
    "Implement the following algorithm inside the laser callback, to identify the safest direction to move next:\n",
    "\n",
    "* You need to get the rays corresponding to those 180º\n",
    "* Identify the largest distance ray (which is not an `inf`) of those 180º, and get its corresponding angle from the front `X` axis\n",
    "    * **Note**: that angle must be between $-\\pi /2$ and  $\\pi/2$  \n",
    "* That angle indicates the direction to which the robot must rotate in order to move to the most opened (safest) area.\n",
    "* Store the angle into a class variable named `direction_`\n",
    "\n",
    "This is a VERY simple algorithm to perform a patrol. It is very simple. We will improve it later on the services section."
   ]
  },
  {
   "cell_type": "markdown",
   "metadata": {},
   "source": [
    "5. **Move the robot to the safest area**\n",
    "\n",
    "In order to move the robot to the safe direction, you need to ublish to the velocity topic of the robot the proper values:\n",
    "    \n",
    "   * Inside the `patrol.cpp`, create a publisher to the `/cmd_vel` topic (the one that controls the wheels)\n",
    "   * Create a control loop of 10 Hz\n",
    "   * At every step of the control loop, you need to publish the proper velocity command on that topic, based on the values detected by the laser.\n",
    "      * The `linear velocity in x` must always be  0.1 m/s\n",
    "      * Take the value of the var `direction_` and use it to compute the proper `angular velocity in z`:\n",
    "      * `angular velocity in z` = `direction_` / 2    \n",
    "\n",
    "6. **Create a launch file named `start_patrolling.launch.py`** that starts your program."
   ]
  },
  {
   "cell_type": "markdown",
   "metadata": {},
   "source": [
    "<h1 align=\"center\";> </h1>\n",
    "<div>\n",
    "    <h1 class=\"text-center\">\n",
    "        <span class=\"text-primary\">1.2</span>\n",
    "        &nbsp;\n",
    "        <span class=\"\">Test your code in the simulation</span>\n",
    "    </h1>\n",
    "</div>"
   ]
  },
  {
   "cell_type": "markdown",
   "metadata": {},
   "source": [
    "**If the program doesn't work on the simulation, it is 100% not going to work on the real robot.**\n",
    "\n",
    "Real-life robot development works this way: first, test your program in a simulation. When it works there, try it on a real robot. Never the other way around."
   ]
  },
  {
   "cell_type": "markdown",
   "metadata": {},
   "source": [
    "<img src=\"images/patrol_sim.gif\"/>"
   ]
  },
  {
   "cell_type": "markdown",
   "metadata": {},
   "source": [
    "Follow the steps below to test your program in the simulation:\n",
    "\n",
    "1. Make sure the simulation is launched, as explained above\n",
    "   \n",
    "2. Now launch your ROS program and see the results. If the robot doesn't behave correctly, debug your program and try to figure out the reason."
   ]
  },
  {
   "cell_type": "markdown",
   "metadata": {},
   "source": [
    "<h1 align=\"center\";> </h1>\n",
    "<div>\n",
    "    <h1 class=\"text-center\">\n",
    "        <span class=\"text-primary\">1.3</span>\n",
    "        &nbsp;\n",
    "        <span class=\"\">Test your code in the real robot</span>\n",
    "    </h1>\n",
    "</div>"
   ]
  },
  {
   "cell_type": "markdown",
   "metadata": {},
   "source": [
    "Once the robot is performing as expected in the simulated environment, it is time for you to test it on the real robot.\n",
    "\n",
    "The steps are:\n",
    "\n",
    "1. Book a date and time in the *Real Robot Lab* to test your program (see Appendix below that teaches how to do that).\n",
    "\n",
    "\n",
    "2. On the day and time selected, open this rosject\n",
    "\n",
    "\n",
    "3. Connect to the real robot lab from within this rosject (see Appendix below)\n",
    "\n",
    "\n",
    "4. Use the web-joystick that appears on the cameras window and move the real robot to the proper position to start before you launch your program\n",
    "\n",
    "\n",
    "5. You don't need to launch the simulation, because you are using the real thing\n",
    "\n",
    "\n",
    "6. **IMPORTANT**: you need to launch the `ros1_bridge` because the real Turtlebot3 also runs ROS1. Unless you launch it, your program will not be able to talk to the robot\n",
    "\n",
    "\n",
    "5. Launch your program and see if it works properly. Chances are it will not because simulation is not an exact copy of the real environment. Now is your time to debug\n",
    "\n",
    "\n",
    "6. Test on the real robot and debug your errors until you have it working as intended"
   ]
  },
  {
   "cell_type": "markdown",
   "metadata": {},
   "source": [
    "<div class=\"bg-warning text-center\">\n",
    "    - Grading Guide -\n",
    "</div>"
   ]
  },
  {
   "cell_type": "markdown",
   "metadata": {},
   "source": [
    "* Check that the code is inside a git and that it has at least 5 commits at different times and days **- 0.5 points**"
   ]
  },
  {
   "cell_type": "markdown",
   "metadata": {},
   "source": [
    "<span class=\"badge badge-pill badge-primary\">\n",
    "    <i class=\"fa fa-play\"></i>\n",
    "    &nbsp;\n",
    "    Execute in Terminal\n",
    "</span>"
   ]
  },
  {
   "cell_type": "markdown",
   "metadata": {},
   "source": [
    "In the directory of the student code:"
   ]
  },
  {
   "cell_type": "code",
   "execution_count": null,
   "metadata": {},
   "outputs": [],
   "source": [
    "git log"
   ]
  },
  {
   "cell_type": "markdown",
   "metadata": {},
   "source": [
    "* When you launch the `start_patrolling.launch.py` file, the robot starts moving around the city environment, while successfully avoiding the obstacles around it - **2.5 points**"
   ]
  },
  {
   "cell_type": "markdown",
   "metadata": {},
   "source": [
    "<span class=\"badge badge-pill badge-primary\">\n",
    "    <i class=\"fa fa-play\"></i>\n",
    "    &nbsp;\n",
    "    Execute in Terminal\n",
    "</span>"
   ]
  },
  {
   "cell_type": "code",
   "execution_count": null,
   "metadata": {},
   "outputs": [],
   "source": [
    "ros2 launch robot_patrol start_patrolling.launch.py"
   ]
  },
  {
   "cell_type": "markdown",
   "metadata": {},
   "source": [
    "<img src=\"realrobotlab_notebooks/realrobot_follow_wall.gif\"/>"
   ]
  },
  {
   "cell_type": "markdown",
   "metadata": {},
   "source": [
    "<div class=\"bg-warning text-center\">\n",
    "    - End Grading Guide -\n",
    "</div>"
   ]
  },
  {
   "cell_type": "markdown",
   "metadata": {},
   "source": [
    "<div>\n",
    "    <h1 class=\"text-center\">\n",
    "        <span class=\"text-primary\">Task 2</span>\n",
    "        &nbsp;\n",
    "        <span class=\"\">Services</span>\n",
    "    </h1>\n",
    "</div>"
   ]
  },
  {
   "cell_type": "markdown",
   "metadata": {},
   "source": [
    "In the previous section, you implemented a ver simple obstacle avoidance algorithm.\n",
    "\n",
    "In this section, you will create a ROS Service that tells the robot what to do. This will replace the obstace avoidance algorithm you created in Task 1."
   ]
  },
  {
   "cell_type": "markdown",
   "metadata": {},
   "source": [
    "The goal in this section is to create a ROS Service that, when called:\n",
    "\n",
    "* It receives the laser data captured by the sensor\n",
    "* It analyzes the laser data received\n",
    "* Based on this data, it tells the robot what to do next"
   ]
  },
  {
   "cell_type": "markdown",
   "metadata": {},
   "source": [
    "To accomplish this, you will have to do 3 things:\n",
    "\n",
    "1. Create a service server node that, when called, will analyze the laser data and tell the robot where to move next\n",
    "2. Modify the program from Task 1 so that it includes now a service client that calls the service server **before** sending velocities to the robot\n",
    "3. Create a new launch file to launch both nodes: the *service server* node and the *patrol* node.\n",
    "\n",
    "**LET'S GOT FOR IT!**"
   ]
  },
  {
   "cell_type": "markdown",
   "metadata": {},
   "source": [
    "<h1 align=\"center\";> </h1>\n",
    "<div>\n",
    "    <h1 class=\"text-center\">\n",
    "        <span class=\"text-primary\">2.1</span>\n",
    "        &nbsp;\n",
    "        <span class=\"\">Create Service Server</span>\n",
    "    </h1>\n",
    "</div>"
   ]
  },
  {
   "cell_type": "markdown",
   "metadata": {},
   "source": [
    "1. **Create the C++ file**\n",
    "\n",
    "    * Inside the `robot_patrol` package create a new C++ file named `direction_service.cpp`\n",
    "    \n",
    "    \n",
    "2. **Create the service server**\n",
    "\n",
    "    * Inside the `direction_service.cpp` file, create a clase named **`DirectionService`** that will contain the code of your node.\n",
    "    * Include on that class a service server named `/direction_service`\n",
    "    * Include everything required to have a *main* that launches the server\n",
    "\n",
    "\n",
    "3. **Analyze the laser data**\n",
    "\n",
    "    * When called, the `/direction_service` will receive the current laser data from the caller\n",
    "    * Then. divide the laser rays received into 3 different sections of 60º each, as described in the picture"
   ]
  },
  {
   "cell_type": "markdown",
   "metadata": {},
   "source": [
    "<img src=\"images/laser_directions.png\" width=\"500\" />"
   ]
  },
  {
   "cell_type": "markdown",
   "metadata": {},
   "source": [
    "   * Decide which is the safest direction for the robot to move next as follows:\n",
    "        * Get all the distances measured for each section and add them up:\n",
    "            * `total_dist_sec_right`\n",
    "            * `total_dist_sec_front`\n",
    "            * `total_dist_sec_left`\n",
    "            \n",
    "        * The section that has the largest total, is the section towards which the robot must move to\n",
    "\n",
    "This is still a very simple algorithm for patrolling, but a little bit more robust than the one of previous section."
   ]
  },
  {
   "cell_type": "markdown",
   "metadata": {},
   "source": [
    "5. **Tell the robot what to do**\n",
    "\n",
    "    * Depending on the laser readings analyzed, return a response\n",
    "    * The service will return 1 of the following 3 responses:\n",
    "        * **`forward`**: Move forward\n",
    "        * **`left`**: Turn left\n",
    "        * **`right`**: Turn right\n",
    "        "
   ]
  },
  {
   "cell_type": "markdown",
   "metadata": {},
   "source": [
    "6. **Create a custom interface**\n",
    "\n",
    "    * The server must use a new `GetDirection` interface that you must also create, and that has the following structure:"
   ]
  },
  {
   "cell_type": "markdown",
   "metadata": {},
   "source": [
    "<span class=\"badge badge-pill badge-primary\">\n",
    "    <i class=\"fa fa-file\"></i>\n",
    "    &nbsp;\n",
    "    GetDirection.srv\n",
    "</span>"
   ]
  },
  {
   "cell_type": "code",
   "execution_count": null,
   "metadata": {},
   "outputs": [],
   "source": [
    "sensor_msgs/LaserScan laser_data\n",
    "---\n",
    "string direction"
   ]
  },
  {
   "cell_type": "markdown",
   "metadata": {},
   "source": [
    "8. **Launch the server**\n",
    "\n",
    "    * Create a launch file named `start_direction_service.launch.py` that launches the `direction_service.cpp` program."
   ]
  },
  {
   "cell_type": "markdown",
   "metadata": {},
   "source": [
    "### Test the Service Server"
   ]
  },
  {
   "cell_type": "markdown",
   "metadata": {},
   "source": [
    "How can you test and debug the service server independently of the code of Task 1? By doing the following steps:"
   ]
  },
  {
   "cell_type": "markdown",
   "metadata": {},
   "source": [
    "1. Inside the `robot_patrol` package create a new C++ file named `test_service.cpp`\n",
    "\n",
    "\n",
    "2. Inside this file, create a simple node that does the following:\n",
    "    * It subscribes to the laser data\n",
    "    * In the callback, it calls the `/direction_service` service with the proper data\n",
    "    * It prints the response returned by the service\n",
    "    \n",
    "\n",
    "3. Create a launch file named `start_test_service.launch.py` that launches the `test_service.cpp` program.    \n",
    "\n",
    "\n",
    "4. Put the simulated robot in a proper location for your test. You can do that using the `teleop_twist_keyboard` node (see Notes below)\n",
    "\n",
    "\n",
    "5. Launch the service server node using the `start_direction_service.launch.py` file\n",
    "\n",
    "\n",
    "6. Launch the tester node using the `start_test_service.launch.py` file"
   ]
  },
  {
   "cell_type": "markdown",
   "metadata": {},
   "source": [
    "<div class=\"bg-info text-center\">\n",
    "    - Notes -\n",
    "</div>"
   ]
  },
  {
   "cell_type": "markdown",
   "metadata": {},
   "source": [
    "To move the simulated robot using the `teleop_twist_keyboard` node, run the following command:"
   ]
  },
  {
   "cell_type": "markdown",
   "metadata": {},
   "source": [
    "<span class=\"badge badge-pill badge-primary\">\n",
    "    <i class=\"fa fa-play\"></i>\n",
    "    &nbsp;\n",
    "    Execute in Shell\n",
    "</span>"
   ]
  },
  {
   "cell_type": "code",
   "execution_count": null,
   "metadata": {},
   "outputs": [],
   "source": [
    "rosrun teleop_twist_keyboard teleop_twist_keyboard.py"
   ]
  },
  {
   "cell_type": "markdown",
   "metadata": {},
   "source": [
    "<div class=\"bg-info text-center\">\n",
    "    - End of Notes -\n",
    "</div>"
   ]
  },
  {
   "cell_type": "markdown",
   "metadata": {},
   "source": [
    "<h1 align=\"center\";> </h1>\n",
    "<div>\n",
    "    <h1 class=\"text-center\">\n",
    "        <span class=\"text-primary\">2.2</span>\n",
    "        &nbsp;\n",
    "        <span class=\"\">Add service call to Task 1 program</span>\n",
    "    </h1>\n",
    "</div>"
   ]
  },
  {
   "cell_type": "markdown",
   "metadata": {},
   "source": [
    "Once the service is working, you need to call it from the `patrol.cpp` program that you created in Task 1. \n",
    "\n",
    "The idea is that the main node will continuously call the `/direction_service` in order to decide where the robot will move next."
   ]
  },
  {
   "cell_type": "markdown",
   "metadata": {},
   "source": [
    "So you need to do the following:"
   ]
  },
  {
   "cell_type": "markdown",
   "metadata": {},
   "source": [
    "1. Create a duplicate of the `patrol.cpp` file, named `patrol_with_service.cpp`\n",
    "2. Add to the `patrol_with_service.cpp` node a service client that connects to the `/direction_service` service\n",
    "3. Use this client to call the service every time before deciding the next robot movement (inside the control loop). \n",
    "\n",
    "    For that you need:\n",
    "    * Remove the computation of the `direction_` in the laser callback.\n",
    "    * Now, in the laser callback, just store the latest laser message ina class variable named `last_laser_`\n",
    "    * In the control loop, call the service providing the `last_laser_` data\n",
    "    * Based on the response obtained from the service, assign the following speeds to the robot:\n",
    "        1. If `front` then `linear.x=0.1` and `angular.z=0.0`\n",
    "        2. If `left` then `linear.x=0.1` and `angular.z=0.5`\n",
    "        3. If `right` then `linear.x=0.1` and `angular.z=-0.5`\n"
   ]
  },
  {
   "cell_type": "markdown",
   "metadata": {},
   "source": [
    "<h1 align=\"center\";> </h1>\n",
    "<div>\n",
    "    <h1 class=\"text-center\">\n",
    "        <span class=\"text-primary\">2.3</span>\n",
    "        &nbsp;\n",
    "        <span class=\"\">Create new launch file</span>\n",
    "    </h1>\n",
    "</div>"
   ]
  },
  {
   "cell_type": "markdown",
   "metadata": {},
   "source": [
    "Now you need to create a launch file that launched both the `patrol_with_service.cpp` and the `direction_service.cpp` programs, because both of them have to be running in order to work together."
   ]
  },
  {
   "cell_type": "markdown",
   "metadata": {},
   "source": [
    "1. Create a new launch file named `main.launch.py` that launches both nodes: first the service server node and then the patrolling node\n",
    "\n",
    "2. Run the `main.launch.py` file to start the full program\n",
    "\n",
    "This should start the robot patrolling behavior."
   ]
  },
  {
   "cell_type": "markdown",
   "metadata": {},
   "source": [
    "<h1 align=\"center\";> </h1>\n",
    "<div>\n",
    "    <h1 class=\"text-center\">\n",
    "        <span class=\"text-primary\"></span>\n",
    "        &nbsp;\n",
    "        <span class=\"\">Test your code in the real robot</span>\n",
    "    </h1>\n",
    "</div>"
   ]
  },
  {
   "cell_type": "markdown",
   "metadata": {},
   "source": [
    "Once the robot is performing as expected in the simulated environment, it is time for you to test it on the real robot.\n",
    "\n",
    "The steps are:\n",
    "\n",
    "1. Book a date and time in the *Real Robot Lab* to test your program (see Appendix below that teaches how to do that).\n",
    "\n",
    "\n",
    "2. On the day and time selected, open this rosject\n",
    "\n",
    "\n",
    "3. Connect to the real robot lab from within this rosject (see Appendix below)\n",
    "\n",
    "\n",
    "4. Use the web-joystick that appears on the cameras window and move the real robot to the proper position to start before you launch your program\n",
    "\n",
    "\n",
    "5. You don't need to launch the simulation, because you are using the real thing\n",
    "\n",
    "\n",
    "6. **IMPORTANT**: you need to launch the `ros1_bridge` because the real Turtlebot3 also runs ROS1. Unless you launch it, your program will not be able to talk to the robot\n",
    "\n",
    "\n",
    "5. Launch your program and see if it works properly. Chances are it will not because simulation is not an exact copy of the real environment. Now is your time to debug\n",
    "\n",
    "\n",
    "6. Test on the real robot and debug your errors until you have it working as intended"
   ]
  },
  {
   "cell_type": "markdown",
   "metadata": {},
   "source": [
    "<div class=\"bg-warning text-center\">\n",
    "    - Grading Guide -\n",
    "</div>"
   ]
  },
  {
   "cell_type": "markdown",
   "metadata": {},
   "source": [
    "* When you launch the `start_direction_service.launch.py` and `start_test_service.launch.py` files, the service works as expected - **2 points**"
   ]
  },
  {
   "cell_type": "markdown",
   "metadata": {},
   "source": [
    "<span class=\"badge badge-pill badge-primary\">\n",
    "    <i class=\"fa fa-play\"></i>\n",
    "    &nbsp;\n",
    "    Execute in Terminal\n",
    "</span>"
   ]
  },
  {
   "cell_type": "code",
   "execution_count": null,
   "metadata": {},
   "outputs": [],
   "source": [
    "ros2 launch robot_patrol start_direction_service.launch.py"
   ]
  },
  {
   "cell_type": "code",
   "execution_count": null,
   "metadata": {},
   "outputs": [],
   "source": [
    "ros2 launch robot_patrol start_test_service.launch.py"
   ]
  },
  {
   "cell_type": "markdown",
   "metadata": {},
   "source": [
    "<img src=\"images/test_service.gif\" width=\"800\" />"
   ]
  },
  {
   "cell_type": "markdown",
   "metadata": {},
   "source": [
    "* When you launch the `main.launch.py` file, the robot starts moving around the city environment, while successfully avoiding the obstacles around it (using the service `/direction_service`) - **1.5 points**"
   ]
  },
  {
   "cell_type": "markdown",
   "metadata": {},
   "source": [
    "<span class=\"badge badge-pill badge-primary\">\n",
    "    <i class=\"fa fa-play\"></i>\n",
    "    &nbsp;\n",
    "    Execute in Terminal\n",
    "</span>"
   ]
  },
  {
   "cell_type": "code",
   "execution_count": null,
   "metadata": {},
   "outputs": [],
   "source": [
    "ros2 launch robot_patrol main.launch.py"
   ]
  },
  {
   "cell_type": "markdown",
   "metadata": {},
   "source": [
    "<div class=\"bg-warning text-center\">\n",
    "    - End Grading Guide -\n",
    "</div>"
   ]
  },
  {
   "cell_type": "markdown",
   "metadata": {},
   "source": [
    "<div>\n",
    "    <h1 class=\"text-center\">\n",
    "        <span class=\"text-primary\">Task 3</span>\n",
    "        &nbsp;\n",
    "        <span class=\"\">Actions</span>\n",
    "    </h1>\n",
    "</div>"
   ]
  },
  {
   "cell_type": "markdown",
   "metadata": {},
   "source": [
    "### Create an action server to send position goals to the robot"
   ]
  },
  {
   "cell_type": "markdown",
   "metadata": {},
   "source": [
    "The goal of this section is to **create an action server that allows you to send the robot to a certain position**, so we can later use it to manually navigate the the robot around the environment.\n",
    "\n",
    "To achieve that, you will need to create another node that contains an action server in charge of doing the necessary operations."
   ]
  },
  {
   "cell_type": "markdown",
   "metadata": {},
   "source": [
    "<img src=\"images/t3_pos_goal.png\" width=\"500\" />"
   ]
  },
  {
   "cell_type": "markdown",
   "metadata": {},
   "source": [
    "- `x`: x coordinate (in meters)\n",
    "- `y`: y coordinate (in meters)\n",
    "- `theta`: goal orientation (in degrees)"
   ]
  },
  {
   "cell_type": "markdown",
   "metadata": {},
   "source": [
    "<h1 align=\"center\";> </h1>\n",
    "<div>\n",
    "    <h1 class=\"text-center\">\n",
    "        <span class=\"text-primary\">3.1</span>\n",
    "        &nbsp;\n",
    "        <span class=\"\">Create action server</span>\n",
    "    </h1>\n",
    "</div>"
   ]
  },
  {
   "cell_type": "markdown",
   "metadata": {},
   "source": [
    "To achieve that, make the following steps:"
   ]
  },
  {
   "cell_type": "markdown",
   "metadata": {},
   "source": [
    "1. **Create the C++ file**\n",
    "\n",
    "    * Inside the `robot_patrol` package create a new C++ file named `go_to_point_action.cpp`\n",
    "    \n",
    "    \n",
    "2. **Create a C++ class**\n",
    "\n",
    "    * Inside the `go_to_point_action.cpp` file, create a clase named **`GoToPoint`** that will contain the code of your node.\n",
    "\n",
    "\n",
    "3. **Create the action server**\n",
    "\n",
    "    * Inside the `go_to_point_action.cpp` file, create an action server named `/go_to_point`\n",
    "    * In the callback, store the desired position received into a class variable named:\n",
    "        * `Point32 desired_pos_`\n",
    "    \n",
    "\n",
    "4. **Get the odometry data**\n",
    "\n",
    "    * Inside the `go_to_point_action.cpp` file, you need to subscribe to the odometry topic `/odom`\n",
    "    * In the callback of `/odom`, store the current odometry `x`, `y` and `theta` into the class var:\n",
    "        * `Point32 current_pos_`\n",
    "\n",
    "    * **Important**: remember that the odometry is received in quaternion format. To get the `theta` value you will need to convert the quaternion into Euler angles.\n",
    "    \n",
    "\n",
    "5. **Publish to the velocity topic of the robot**\n",
    "    \n",
    "    * Also inside the `go_to_point_action.cpp`, create a publisher to the `/cmd_vel` topic that controls the wheels\n",
    "    * At every step of the control loop, you need to publish the proper velocity command on that topic, based on the odometry readings.\n",
    "    \n",
    "    \n",
    "6. **Create the control loop**\n",
    "    \n",
    "    * In order to reach the desired goal, you will need to implement a basic control loop:\n",
    "    \n",
    "    1. Get the current position `current_pos_`\n",
    "    2. Get the desired position `desired_pos`\n",
    "    3. Compute the difference between the two.\n",
    "    4. This difference defines a vector with the direction you need to move\n",
    "    5. Convert the vector direction into the angular speed (`angular.z`) required, using the same principle as in section 1\n",
    "    6. Send the speed to the `/cmd_vel` applying a fixed `linear.x` of 0.2 m/s\n"
   ]
  },
  {
   "cell_type": "markdown",
   "metadata": {},
   "source": [
    "7. **Create a custom interface**\n",
    "\n",
    "    * The server must use a new `GoToPoint.action` interface that you must also create, and that has the following structure:"
   ]
  },
  {
   "cell_type": "markdown",
   "metadata": {},
   "source": [
    "<span class=\"badge badge-pill badge-primary\">\n",
    "    <i class=\"fa fa-file\"></i>\n",
    "    &nbsp;\n",
    "    GoToPoint.action\n",
    "</span>"
   ]
  },
  {
   "cell_type": "code",
   "execution_count": null,
   "metadata": {},
   "outputs": [],
   "source": [
    "geometry_msgs/Point32 goal_pos\n",
    "---\n",
    "bool status\n",
    "---\n",
    "geometry_msgs/Point32 current_pos"
   ]
  },
  {
   "cell_type": "markdown",
   "metadata": {},
   "source": [
    "8. **Create the launch file**\n",
    "\n",
    "    * Create a launch file named `start_gotopoint_action.launch.py` that launches the `go_to_point_action.cpp` program."
   ]
  },
  {
   "cell_type": "markdown",
   "metadata": {},
   "source": [
    "### Action Behavior"
   ]
  },
  {
   "cell_type": "markdown",
   "metadata": {},
   "source": [
    "* The action server will receive a `Point32` message as a goal. This `Point32` will define the goal position [x, y, theta] for the robot.\n",
    "\n",
    "* As feedback, the action server publishes the current position of the robot [x,y,theta] every second.\n",
    "\n",
    "* When the action finishes, the result will return the following:\n",
    "\n",
    "    * A boolean with True inndicating the action finished correctly"
   ]
  },
  {
   "cell_type": "markdown",
   "metadata": {},
   "source": [
    "<span style=\"color:red;\">**IMPORTANT:** For reaching the goal, it is not necessary to perform obstacle avoidance. Therefore, you can assume there are no obstacles in the environment.</span>"
   ]
  },
  {
   "cell_type": "markdown",
   "metadata": {},
   "source": [
    "<h1 align=\"center\";> </h1>\n",
    "<div>\n",
    "    <h1 class=\"text-center\">\n",
    "        <span class=\"text-primary\">3.2</span>\n",
    "        &nbsp;\n",
    "        <span class=\"\">Test your code in the real robot</span>\n",
    "    </h1>\n",
    "</div>"
   ]
  },
  {
   "cell_type": "markdown",
   "metadata": {},
   "source": [
    "Once the robot is performing as expected in the simulated environment, it is time for you to test it on the real robot.\n",
    "\n",
    "The steps are:\n",
    "\n",
    "1. Book a date and time in the *Real Robot Lab* to test your program (see Appendix below that teaches how to do that).\n",
    "\n",
    "\n",
    "2. On the day and time selected, open this rosject\n",
    "\n",
    "\n",
    "3. Connect to the real robot lab from within this rosject (see Appendix below)\n",
    "\n",
    "\n",
    "4. Use the web-joystick that appears on the cameras window and move the real robot to the proper position to start before you launch your program\n",
    "\n",
    "\n",
    "5. You don't need to launch the simulation, because you are using the real thing\n",
    "\n",
    "\n",
    "6. **IMPORTANT**: you need to launch the `ros1_bridge` because the real Turtlebot3 also runs ROS1. Unless you launch it, your program will not be able to talk to the robot\n",
    "\n",
    "\n",
    "5. Launch your program and see if it works properly. Chances are it will not because simulation is not an exact copy of the real environment. Now is your time to debug\n",
    "\n",
    "\n",
    "6. Test on the real robot and debug your errors until you have it working as intended"
   ]
  },
  {
   "cell_type": "markdown",
   "metadata": {},
   "source": [
    "<div class=\"bg-warning text-center\">\n",
    "    - Grading Guide -\n",
    "</div>"
   ]
  },
  {
   "cell_type": "markdown",
   "metadata": {},
   "source": [
    "* The custom action interface has been created successfully - **0.5 points**"
   ]
  },
  {
   "cell_type": "markdown",
   "metadata": {},
   "source": [
    "<span class=\"badge badge-pill badge-primary\">\n",
    "    <i class=\"fa fa-play\"></i>\n",
    "    &nbsp;\n",
    "    Execute in Terminal\n",
    "</span>"
   ]
  },
  {
   "cell_type": "code",
   "execution_count": null,
   "metadata": {},
   "outputs": [],
   "source": [
    "ros2 interface show robot_patrol/action/GoToPoint"
   ]
  },
  {
   "cell_type": "markdown",
   "metadata": {},
   "source": [
    "<pre style=\"color: white; background: black; padding:10px; font: 1.3rem Inconsolata, monospace;\">\n",
    "geometry_msgs/Point32 goal_pos\n",
    "---\n",
    "bool status\n",
    "---\n",
    "geometry_msgs/Point32 current_pos\n",
    "</pre>"
   ]
  },
  {
   "cell_type": "markdown",
   "metadata": {},
   "source": [
    "* When you launch the `start_gotopoint_action.launch.py` file, the action server is started and you can send position goals to it. The robot correctly reaches the goal position - **2.5 points**"
   ]
  },
  {
   "cell_type": "markdown",
   "metadata": {},
   "source": [
    "<span class=\"badge badge-pill badge-primary\">\n",
    "    <i class=\"fa fa-play\"></i>\n",
    "    &nbsp;\n",
    "    Execute in Terminal\n",
    "</span>"
   ]
  },
  {
   "cell_type": "code",
   "execution_count": null,
   "metadata": {},
   "outputs": [],
   "source": [
    "ros2 launch robot_patrol start_gotopoint_action.launch.py"
   ]
  },
  {
   "cell_type": "code",
   "execution_count": null,
   "metadata": {},
   "outputs": [],
   "source": [
    "ros2 action send_goal -f /go_to_point robot_patrol/action/GoToPoint \"goal_pos:\n",
    "  x: 0.7\n",
    "  y: 0.3\n",
    "  z: 0.0\n",
    "\""
   ]
  },
  {
   "cell_type": "markdown",
   "metadata": {},
   "source": [
    "<img src=\"images/go_to_point_action.gif\" width=\"800\" />"
   ]
  },
  {
   "cell_type": "markdown",
   "metadata": {},
   "source": [
    "* The action server is able to handle properly consecutive goals - **0.5 points**"
   ]
  },
  {
   "cell_type": "markdown",
   "metadata": {},
   "source": [
    "<span class=\"badge badge-pill badge-primary\">\n",
    "    <i class=\"fa fa-play\"></i>\n",
    "    &nbsp;\n",
    "    Execute in Terminal\n",
    "</span>"
   ]
  },
  {
   "cell_type": "code",
   "execution_count": null,
   "metadata": {},
   "outputs": [],
   "source": [
    "ros2 launch robot_patrol start_gotopoint_action.launch.py"
   ]
  },
  {
   "cell_type": "code",
   "execution_count": null,
   "metadata": {},
   "outputs": [],
   "source": [
    "ros2 action send_goal -f /go_to_point robot_patrol/action/GoToPoint \"goal_pos:\n",
    "  x: 0.7\n",
    "  y: 0.3\n",
    "  z: 0.0\n",
    "\""
   ]
  },
  {
   "cell_type": "code",
   "execution_count": null,
   "metadata": {},
   "outputs": [],
   "source": [
    "ros2 action send_goal -f /go_to_point robot_patrol/action/GoToPoint \"goal_pos:\n",
    "  x: 0.7\n",
    "  y: 0.0\n",
    "  z: 90.0\n",
    "\""
   ]
  },
  {
   "cell_type": "markdown",
   "metadata": {},
   "source": [
    "<div class=\"bg-warning text-center\">\n",
    "    - End Grading Guide -\n",
    "</div>"
   ]
  },
  {
   "cell_type": "markdown",
   "metadata": {},
   "source": [
    "<div>\n",
    "    <h1 class=\"text-center\">\n",
    "        <span class=\"text-primary\">Appendix</span>\n",
    "        &nbsp;\n",
    "        <span class=\"\">How to connect to the real robot</span>\n",
    "    </h1>\n",
    "</div>"
   ]
  },
  {
   "cell_type": "markdown",
   "metadata": {},
   "source": [
    "Once you know the basics of the operation with a simulated version, it's time to practice what you've learned with a TurtleBot3 robot.\n",
    "\n",
    "### Book up to two 25-minute sessions per week\n",
    "\n",
    "To make a booking, follow these simple steps:"
   ]
  },
  {
   "cell_type": "markdown",
   "metadata": {},
   "source": [
    "<div>\n",
    "    <h1 class=\"text-center\">\n",
    "        <span class=\"text-primary\">Step 1</span>\n",
    "        &nbsp;\n",
    "        <span class=\"\">Book a Session</span>\n",
    "    </h1>\n",
    "</div>"
   ]
  },
  {
   "cell_type": "markdown",
   "metadata": {},
   "source": [
    "From The Construct's main dashboard, book a session by clicking on the icon seen below:"
   ]
  },
  {
   "cell_type": "markdown",
   "metadata": {},
   "source": [
    "<img src=\"realrobotlab_notebooks/reallab2.png\"/>"
   ]
  },
  {
   "cell_type": "markdown",
   "metadata": {},
   "source": [
    "A booking page will appear, where you can make a new booking.\n",
    "\n",
    "<img src=\"realrobotlab_notebooks/bookings.png\"/>"
   ]
  },
  {
   "cell_type": "markdown",
   "metadata": {},
   "source": [
    "You can either click on `Book a robot` on the bottom and then select the Turtlebot, or just click on `Book now` where the image of the turtlebot is and select the date and time for your reservation:"
   ]
  },
  {
   "cell_type": "markdown",
   "metadata": {},
   "source": [
    "<img src=\"realrobotlab_notebooks/reservet3.png\"/>"
   ]
  },
  {
   "cell_type": "markdown",
   "metadata": {},
   "source": [
    "Only the **available dates and times** are shown in green. They come in **25-minute blocks**.\n",
    "\n",
    "There is also a limitation on the number of bookings per week a user can make.\n",
    "\n",
    "Your number of available bookings depends on your license and subscription."
   ]
  },
  {
   "cell_type": "markdown",
   "metadata": {},
   "source": [
    "<img src=\"realrobotlab_notebooks/confirm.png\"/>"
   ]
  },
  {
   "cell_type": "markdown",
   "metadata": {},
   "source": [
    "* At any point in time you can check for bookings you have:\n",
    "\n",
    "<img src=\"realrobotlab_notebooks/bookasession.png\"/>"
   ]
  },
  {
   "cell_type": "markdown",
   "metadata": {},
   "source": [
    "<div>\n",
    "    <h1 class=\"text-center\">\n",
    "        <span class=\"text-primary\">Step 2</span>\n",
    "        &nbsp;\n",
    "        <span class=\"\">Open project rosject</span>\n",
    "    </h1>\n",
    "</div>"
   ]
  },
  {
   "cell_type": "markdown",
   "metadata": {},
   "source": [
    "Before the time of your booking, open your rosject. You will see the robot icon at the bottom bar has an orange dot. It means that your time to connect to the roobt will start soon. If you click on it you will see a countdown to your session start."
   ]
  },
  {
   "cell_type": "markdown",
   "metadata": {},
   "source": [
    "<img src=\"realrobotlab_notebooks/remaining.png\"/>"
   ]
  },
  {
   "cell_type": "markdown",
   "metadata": {},
   "source": [
    "The orange dot will turn red when your booked session has started."
   ]
  },
  {
   "cell_type": "markdown",
   "metadata": {},
   "source": [
    "<div>\n",
    "    <h1 class=\"text-center\">\n",
    "        <span class=\"text-primary\">Step 3</span>\n",
    "        &nbsp;\n",
    "        <span class=\"\">Turn ON robot connection</span>\n",
    "    </h1>\n",
    "</div>"
   ]
  },
  {
   "cell_type": "markdown",
   "metadata": {},
   "source": [
    "Once you are inside the rosject and your real robot session has started, click on the robot icon at the bottom. A popup with a toggle for **turning on the connection** will appear.\n",
    "\n",
    "**WARNING: Nothing will appear unless you have a booking. So if you didn't make a booking in the dashboard, now is the time to do it.**\n",
    "\n",
    "Now you just have to click on the toggle to connect the desktop environment to the remote lab. This will start the connection process, which lasts for a few seconds. \n",
    "\n",
    "Once the connection process is finished, the **red dot will change to green** if succesfully connected. Now **any terminal you open will show the topics and services of the real robot**.\n",
    "\n",
    "Move the joystick around to confirm you are connected to the robot:"
   ]
  },
  {
   "cell_type": "markdown",
   "metadata": {},
   "source": [
    "<img src=\"realrobotlab_notebooks/rrl.gif\"/>"
   ]
  },
  {
   "cell_type": "markdown",
   "metadata": {},
   "source": [
    "You can perform the following command, generating a list of topics similar to the list below. The first time you issue a ROS command, it could take an extra 30 seconds to appear:"
   ]
  },
  {
   "cell_type": "markdown",
   "metadata": {},
   "source": [
    "<table style=\"float:left;background: #407EAF\">\n",
    "<tr>\n",
    "<th>\n",
    "<p class=\"transparent\">Execute in WebShell #1</p>\n",
    "</th>\n",
    "</tr>\n",
    "</table>"
   ]
  },
  {
   "cell_type": "code",
   "execution_count": null,
   "metadata": {},
   "outputs": [],
   "source": [
    "rostopic list"
   ]
  },
  {
   "cell_type": "code",
   "execution_count": null,
   "metadata": {},
   "outputs": [],
   "source": [
    "/battery_state\n",
    "/cmd_vel\n",
    "/cmd_vel_rc100\n",
    "/diagnostics\n",
    "/firmware_version\n",
    "/imu\n",
    "/joint_states\n",
    "/magnetic_field\n",
    "/motor_power\n",
    "/odom\n",
    "/reset\n",
    "/rosout\n",
    "/rosout_agg\n",
    "/rpms\n",
    "/scan\n",
    "/sensor_state\n",
    "/sound\n",
    "/tf\n",
    "/tf_static\n",
    "/version_info"
   ]
  },
  {
   "cell_type": "markdown",
   "metadata": {},
   "source": [
    "## Ready for your programs!\n",
    "\n",
    "If you have reached this point, it means that you have a proper connection with the remote real robot lab. **Now you can launch the programs of your project and see the results on a real robot**."
   ]
  }
 ],
 "metadata": {
  "kernelspec": {
   "display_name": "Python 3 (ipykernel)",
   "language": "python",
   "name": "python3"
  },
  "language_info": {
   "codemirror_mode": {
    "name": "ipython",
    "version": 3
   },
   "file_extension": ".py",
   "mimetype": "text/x-python",
   "name": "python",
   "nbconvert_exporter": "python",
   "pygments_lexer": "ipython3",
   "version": "3.8.10"
  }
 },
 "nbformat": 4,
 "nbformat_minor": 1
}
